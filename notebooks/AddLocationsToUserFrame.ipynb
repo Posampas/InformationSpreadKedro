{
 "cells": [
  {
   "cell_type": "code",
   "execution_count": 169,
   "id": "24bc57b5",
   "metadata": {},
   "outputs": [],
   "source": [
    "import pandas as pd\n",
    "\n",
    "\n",
    "twitts = pd.read_csv('../data/02_intermediate/cleaned_data.csv')\n",
    "users = pd.read_csv('../data/02_intermediate/users_cleaned.csv', delimiter=',')\n",
    "cities_frame = pd.read_csv('../data/01_raw/cites.csv')"
   ]
  },
  {
   "cell_type": "code",
   "execution_count": 10,
   "id": "1c034bef",
   "metadata": {},
   "outputs": [
    {
     "data": {
      "text/plain": [
       "9892"
      ]
     },
     "execution_count": 10,
     "metadata": {},
     "output_type": "execute_result"
    }
   ],
   "source": [
    "cities = twitts[[\"city\",\"lat\",\"lon\"]].copy()\n",
    "len(cities)"
   ]
  },
  {
   "cell_type": "code",
   "execution_count": 175,
   "id": "620119fc",
   "metadata": {
    "scrolled": true
   },
   "outputs": [],
   "source": [
    "users_first = pd.read_csv('../data/01_raw/users.csv')"
   ]
  },
  {
   "cell_type": "code",
   "execution_count": 182,
   "id": "2bb2691b",
   "metadata": {},
   "outputs": [],
   "source": [
    "users = users.merge(users_first[[\"id\",\"username\"]], how=\"left\", on=[\"username\"])"
   ]
  },
  {
   "cell_type": "code",
   "execution_count": 190,
   "id": "23921119",
   "metadata": {},
   "outputs": [],
   "source": [
    "users.rename(columns= {\"id_y\": \"id\"}, inplace = True)\n"
   ]
  },
  {
   "cell_type": "code",
   "execution_count": 170,
   "id": "b7c8e895",
   "metadata": {},
   "outputs": [],
   "source": [
    "for idx, row in users.iterrows():\n",
    "    city = cities_frame[cities_frame[\"city\"] == row[\"location\"]]\n",
    "    if not city.empty:\n",
    "        users.at[idx,\"lat\"] = city[\"lat\"].values[0]\n",
    "        users.at[idx,\"lon\"] = city[\"lon\"].values[0]"
   ]
  },
  {
   "cell_type": "code",
   "execution_count": 104,
   "id": "f72c55bd",
   "metadata": {},
   "outputs": [
    {
     "data": {
      "text/plain": [
       "52.2337172"
      ]
     },
     "execution_count": 104,
     "metadata": {},
     "output_type": "execute_result"
    }
   ],
   "source": [
    "city = cities_frame[cities_frame[\"city\"] == \"Warszawa\"]\n",
    "city[\"lat\"].values[0]"
   ]
  },
  {
   "cell_type": "code",
   "execution_count": 171,
   "id": "743078ae",
   "metadata": {},
   "outputs": [
    {
     "data": {
      "text/plain": [
       "[]"
      ]
     },
     "execution_count": 171,
     "metadata": {},
     "output_type": "execute_result"
    }
   ],
   "source": [
    "users[users[\"lat\"].isna()][\"location\"].unique().tolist()"
   ]
  },
  {
   "cell_type": "code",
   "execution_count": 159,
   "id": "f65ce92d",
   "metadata": {},
   "outputs": [],
   "source": [
    "for idx, row in users.iterrows():\n",
    "    if row['location'] == \"Dolnośląskie\":\n",
    "        users.at[idx,'location'] = \"Wrocław\""
   ]
  },
  {
   "cell_type": "code",
   "execution_count": 160,
   "id": "37b1302e",
   "metadata": {},
   "outputs": [
    {
     "data": {
      "text/html": [
       "<div>\n",
       "<style scoped>\n",
       "    .dataframe tbody tr th:only-of-type {\n",
       "        vertical-align: middle;\n",
       "    }\n",
       "\n",
       "    .dataframe tbody tr th {\n",
       "        vertical-align: top;\n",
       "    }\n",
       "\n",
       "    .dataframe thead th {\n",
       "        text-align: right;\n",
       "    }\n",
       "</style>\n",
       "<table border=\"1\" class=\"dataframe\">\n",
       "  <thead>\n",
       "    <tr style=\"text-align: right;\">\n",
       "      <th></th>\n",
       "      <th>username</th>\n",
       "      <th>name</th>\n",
       "      <th>protected</th>\n",
       "      <th>public_metrics</th>\n",
       "      <th>profile_image_url</th>\n",
       "      <th>id</th>\n",
       "      <th>description</th>\n",
       "      <th>location</th>\n",
       "      <th>created_at</th>\n",
       "      <th>lat</th>\n",
       "      <th>lon</th>\n",
       "    </tr>\n",
       "  </thead>\n",
       "  <tbody>\n",
       "  </tbody>\n",
       "</table>\n",
       "</div>"
      ],
      "text/plain": [
       "Empty DataFrame\n",
       "Columns: [username, name, protected, public_metrics, profile_image_url, id, description, location, created_at, lat, lon]\n",
       "Index: []"
      ]
     },
     "execution_count": 160,
     "metadata": {},
     "output_type": "execute_result"
    }
   ],
   "source": [
    "users[users[\"location\"].str.contains(\"Dolnośląskie\")]"
   ]
  },
  {
   "cell_type": "code",
   "execution_count": 192,
   "id": "ff263db2",
   "metadata": {},
   "outputs": [],
   "source": [
    "users.to_csv(\"../data/02_intermediate/users_cleaned.csv\",index = False, columns = users.columns.to_list() )"
   ]
  },
  {
   "cell_type": "code",
   "execution_count": 168,
   "id": "6eecf0eb",
   "metadata": {},
   "outputs": [],
   "source": [
    "users.drop([\"lat\",\"lon\"], axis=1, inplace=True)"
   ]
  },
  {
   "cell_type": "code",
   "execution_count": 191,
   "id": "10f106b4",
   "metadata": {},
   "outputs": [
    {
     "data": {
      "text/html": [
       "<div>\n",
       "<style scoped>\n",
       "    .dataframe tbody tr th:only-of-type {\n",
       "        vertical-align: middle;\n",
       "    }\n",
       "\n",
       "    .dataframe tbody tr th {\n",
       "        vertical-align: top;\n",
       "    }\n",
       "\n",
       "    .dataframe thead th {\n",
       "        text-align: right;\n",
       "    }\n",
       "</style>\n",
       "<table border=\"1\" class=\"dataframe\">\n",
       "  <thead>\n",
       "    <tr style=\"text-align: right;\">\n",
       "      <th></th>\n",
       "      <th>username</th>\n",
       "      <th>name</th>\n",
       "      <th>protected</th>\n",
       "      <th>public_metrics</th>\n",
       "      <th>profile_image_url</th>\n",
       "      <th>description</th>\n",
       "      <th>location</th>\n",
       "      <th>created_at</th>\n",
       "      <th>lat</th>\n",
       "      <th>lon</th>\n",
       "      <th>id</th>\n",
       "    </tr>\n",
       "  </thead>\n",
       "  <tbody>\n",
       "    <tr>\n",
       "      <th>0</th>\n",
       "      <td>paw3lo</td>\n",
       "      <td>Paweł</td>\n",
       "      <td>False</td>\n",
       "      <td>{'followers_count': 346, 'following_count': 41...</td>\n",
       "      <td>https://pbs.twimg.com/profile_images/507891903...</td>\n",
       "      <td>PiS=PO=PSL=Lewica\\nPoza tym uważam, że UE powi...</td>\n",
       "      <td>Warszawa</td>\n",
       "      <td>2011-02-22T21:51:08.000Z</td>\n",
       "      <td>52.233717</td>\n",
       "      <td>21.071411</td>\n",
       "      <td>256206247</td>\n",
       "    </tr>\n",
       "    <tr>\n",
       "      <th>1</th>\n",
       "      <td>DariuszFudala</td>\n",
       "      <td>Dariusz Fudala</td>\n",
       "      <td>False</td>\n",
       "      <td>{'followers_count': 83, 'following_count': 203...</td>\n",
       "      <td>https://pbs.twimg.com/profile_images/151205366...</td>\n",
       "      <td>ja to tylko JA</td>\n",
       "      <td>Warszawa</td>\n",
       "      <td>2022-03-11T18:44:53.000Z</td>\n",
       "      <td>52.233717</td>\n",
       "      <td>21.071411</td>\n",
       "      <td>1502354401889075202</td>\n",
       "    </tr>\n",
       "    <tr>\n",
       "      <th>2</th>\n",
       "      <td>Glazozerca</td>\n",
       "      <td>Głażej 💙💛</td>\n",
       "      <td>False</td>\n",
       "      <td>{'followers_count': 74, 'following_count': 116...</td>\n",
       "      <td>https://pbs.twimg.com/profile_images/152281032...</td>\n",
       "      <td>18 yo\\nPlayer Fortnite, Rocket League, Valoran...</td>\n",
       "      <td>Warszawa</td>\n",
       "      <td>2019-03-17T17:14:49.000Z</td>\n",
       "      <td>52.233717</td>\n",
       "      <td>21.071411</td>\n",
       "      <td>1107329450969042945</td>\n",
       "    </tr>\n",
       "    <tr>\n",
       "      <th>3</th>\n",
       "      <td>AdamAdam4949</td>\n",
       "      <td>Adam Adamski</td>\n",
       "      <td>False</td>\n",
       "      <td>{'followers_count': 7945, 'following_count': 3...</td>\n",
       "      <td>https://pbs.twimg.com/profile_images/141953022...</td>\n",
       "      <td>Mokotów mówi ***** ***</td>\n",
       "      <td>Warszawa</td>\n",
       "      <td>2020-11-09T21:47:25.000Z</td>\n",
       "      <td>52.233717</td>\n",
       "      <td>21.071411</td>\n",
       "      <td>1325917892597190656</td>\n",
       "    </tr>\n",
       "    <tr>\n",
       "      <th>4</th>\n",
       "      <td>l_ogonowski</td>\n",
       "      <td>Łukasz Ogonowski</td>\n",
       "      <td>False</td>\n",
       "      <td>{'followers_count': 236, 'following_count': 20...</td>\n",
       "      <td>https://pbs.twimg.com/profile_images/123871575...</td>\n",
       "      <td>Political Science graduate | Here on various t...</td>\n",
       "      <td>Warszawa</td>\n",
       "      <td>2012-04-27T09:47:13.000Z</td>\n",
       "      <td>52.233717</td>\n",
       "      <td>21.071411</td>\n",
       "      <td>564532437</td>\n",
       "    </tr>\n",
       "    <tr>\n",
       "      <th>...</th>\n",
       "      <td>...</td>\n",
       "      <td>...</td>\n",
       "      <td>...</td>\n",
       "      <td>...</td>\n",
       "      <td>...</td>\n",
       "      <td>...</td>\n",
       "      <td>...</td>\n",
       "      <td>...</td>\n",
       "      <td>...</td>\n",
       "      <td>...</td>\n",
       "      <td>...</td>\n",
       "    </tr>\n",
       "    <tr>\n",
       "      <th>410</th>\n",
       "      <td>Mieczys45101283</td>\n",
       "      <td>Mieczysław Ponoć</td>\n",
       "      <td>False</td>\n",
       "      <td>NaN</td>\n",
       "      <td>https://pbs.twimg.com/profile_images/124415948...</td>\n",
       "      <td>Mieczysław Ponoć - wierny ojczyźnie emeryt (ta...</td>\n",
       "      <td>Ciechocinek</td>\n",
       "      <td>2020-03-29T07:07:25.000Z</td>\n",
       "      <td>52.881849</td>\n",
       "      <td>18.792525</td>\n",
       "      <td>1244159140102049795</td>\n",
       "    </tr>\n",
       "    <tr>\n",
       "      <th>411</th>\n",
       "      <td>justyna480</td>\n",
       "      <td>Justyna</td>\n",
       "      <td>False</td>\n",
       "      <td>NaN</td>\n",
       "      <td>https://pbs.twimg.com/profile_images/151101436...</td>\n",
       "      <td>🏀 Anwil Włocławek 💙🤍💚</td>\n",
       "      <td>Włocławek</td>\n",
       "      <td>2012-11-07T20:10:15.000Z</td>\n",
       "      <td>52.665564</td>\n",
       "      <td>19.096130</td>\n",
       "      <td>932845070</td>\n",
       "    </tr>\n",
       "    <tr>\n",
       "      <th>412</th>\n",
       "      <td>jasiak_piotr</td>\n",
       "      <td>Piotr JASIAK</td>\n",
       "      <td>False</td>\n",
       "      <td>NaN</td>\n",
       "      <td>https://pbs.twimg.com/profile_images/139241611...</td>\n",
       "      <td>Nie mając własnej strategii nie dziw się, że j...</td>\n",
       "      <td>Racibórz</td>\n",
       "      <td>2019-01-31T10:17:56.000Z</td>\n",
       "      <td>50.091734</td>\n",
       "      <td>18.219677</td>\n",
       "      <td>1090917087961407490</td>\n",
       "    </tr>\n",
       "    <tr>\n",
       "      <th>413</th>\n",
       "      <td>TomaszSzymanow3</td>\n",
       "      <td>Tomasz Łysy Szymanowski</td>\n",
       "      <td>False</td>\n",
       "      <td>NaN</td>\n",
       "      <td>https://pbs.twimg.com/profile_images/142510505...</td>\n",
       "      <td>Żyje więc jestem !🌏🇵🇱🇪🇺</td>\n",
       "      <td>Gniezno</td>\n",
       "      <td>2016-09-09T07:56:49.000Z</td>\n",
       "      <td>52.535974</td>\n",
       "      <td>17.595889</td>\n",
       "      <td>774154579889958913</td>\n",
       "    </tr>\n",
       "    <tr>\n",
       "      <th>414</th>\n",
       "      <td>RafaGil67558545</td>\n",
       "      <td>Rafał Gil</td>\n",
       "      <td>False</td>\n",
       "      <td>NaN</td>\n",
       "      <td>https://pbs.twimg.com/profile_images/152081616...</td>\n",
       "      <td>Rafał Gil 15 letni działacz i koordynator młod...</td>\n",
       "      <td>Legnica</td>\n",
       "      <td>2022-05-01T17:18:42.000Z</td>\n",
       "      <td>51.204746</td>\n",
       "      <td>16.174674</td>\n",
       "      <td>1520814920224452608</td>\n",
       "    </tr>\n",
       "  </tbody>\n",
       "</table>\n",
       "<p>415 rows × 11 columns</p>\n",
       "</div>"
      ],
      "text/plain": [
       "            username                     name  protected  \\\n",
       "0             paw3lo                    Paweł      False   \n",
       "1      DariuszFudala           Dariusz Fudala      False   \n",
       "2         Glazozerca                Głażej 💙💛      False   \n",
       "3       AdamAdam4949             Adam Adamski      False   \n",
       "4        l_ogonowski         Łukasz Ogonowski      False   \n",
       "..               ...                      ...        ...   \n",
       "410  Mieczys45101283         Mieczysław Ponoć      False   \n",
       "411       justyna480                  Justyna      False   \n",
       "412     jasiak_piotr             Piotr JASIAK      False   \n",
       "413  TomaszSzymanow3  Tomasz Łysy Szymanowski      False   \n",
       "414  RafaGil67558545                Rafał Gil      False   \n",
       "\n",
       "                                        public_metrics  \\\n",
       "0    {'followers_count': 346, 'following_count': 41...   \n",
       "1    {'followers_count': 83, 'following_count': 203...   \n",
       "2    {'followers_count': 74, 'following_count': 116...   \n",
       "3    {'followers_count': 7945, 'following_count': 3...   \n",
       "4    {'followers_count': 236, 'following_count': 20...   \n",
       "..                                                 ...   \n",
       "410                                                NaN   \n",
       "411                                                NaN   \n",
       "412                                                NaN   \n",
       "413                                                NaN   \n",
       "414                                                NaN   \n",
       "\n",
       "                                     profile_image_url  \\\n",
       "0    https://pbs.twimg.com/profile_images/507891903...   \n",
       "1    https://pbs.twimg.com/profile_images/151205366...   \n",
       "2    https://pbs.twimg.com/profile_images/152281032...   \n",
       "3    https://pbs.twimg.com/profile_images/141953022...   \n",
       "4    https://pbs.twimg.com/profile_images/123871575...   \n",
       "..                                                 ...   \n",
       "410  https://pbs.twimg.com/profile_images/124415948...   \n",
       "411  https://pbs.twimg.com/profile_images/151101436...   \n",
       "412  https://pbs.twimg.com/profile_images/139241611...   \n",
       "413  https://pbs.twimg.com/profile_images/142510505...   \n",
       "414  https://pbs.twimg.com/profile_images/152081616...   \n",
       "\n",
       "                                           description     location  \\\n",
       "0    PiS=PO=PSL=Lewica\\nPoza tym uważam, że UE powi...     Warszawa   \n",
       "1                                       ja to tylko JA     Warszawa   \n",
       "2    18 yo\\nPlayer Fortnite, Rocket League, Valoran...     Warszawa   \n",
       "3                               Mokotów mówi ***** ***     Warszawa   \n",
       "4    Political Science graduate | Here on various t...     Warszawa   \n",
       "..                                                 ...          ...   \n",
       "410  Mieczysław Ponoć - wierny ojczyźnie emeryt (ta...  Ciechocinek   \n",
       "411                              🏀 Anwil Włocławek 💙🤍💚    Włocławek   \n",
       "412  Nie mając własnej strategii nie dziw się, że j...     Racibórz   \n",
       "413                            Żyje więc jestem !🌏🇵🇱🇪🇺      Gniezno   \n",
       "414  Rafał Gil 15 letni działacz i koordynator młod...      Legnica   \n",
       "\n",
       "                   created_at        lat        lon                   id  \n",
       "0    2011-02-22T21:51:08.000Z  52.233717  21.071411            256206247  \n",
       "1    2022-03-11T18:44:53.000Z  52.233717  21.071411  1502354401889075202  \n",
       "2    2019-03-17T17:14:49.000Z  52.233717  21.071411  1107329450969042945  \n",
       "3    2020-11-09T21:47:25.000Z  52.233717  21.071411  1325917892597190656  \n",
       "4    2012-04-27T09:47:13.000Z  52.233717  21.071411            564532437  \n",
       "..                        ...        ...        ...                  ...  \n",
       "410  2020-03-29T07:07:25.000Z  52.881849  18.792525  1244159140102049795  \n",
       "411  2012-11-07T20:10:15.000Z  52.665564  19.096130            932845070  \n",
       "412  2019-01-31T10:17:56.000Z  50.091734  18.219677  1090917087961407490  \n",
       "413  2016-09-09T07:56:49.000Z  52.535974  17.595889   774154579889958913  \n",
       "414  2022-05-01T17:18:42.000Z  51.204746  16.174674  1520814920224452608  \n",
       "\n",
       "[415 rows x 11 columns]"
      ]
     },
     "execution_count": 191,
     "metadata": {},
     "output_type": "execute_result"
    }
   ],
   "source": [
    "users"
   ]
  },
  {
   "cell_type": "code",
   "execution_count": null,
   "id": "aa7f6bdf",
   "metadata": {},
   "outputs": [],
   "source": []
  }
 ],
 "metadata": {
  "kernelspec": {
   "display_name": "InfoSpread",
   "language": "python",
   "name": "infospread"
  },
  "language_info": {
   "codemirror_mode": {
    "name": "ipython",
    "version": 3
   },
   "file_extension": ".py",
   "mimetype": "text/x-python",
   "name": "python",
   "nbconvert_exporter": "python",
   "pygments_lexer": "ipython3",
   "version": "3.10.6"
  }
 },
 "nbformat": 4,
 "nbformat_minor": 5
}
