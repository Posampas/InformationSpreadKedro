{
 "cells": [
  {
   "cell_type": "code",
   "execution_count": 132,
   "id": "7851573a",
   "metadata": {},
   "outputs": [],
   "source": [
    "import pandas as pd\n",
    "answer_frame = pd.read_csv('../data/02_intermediate/users_cleaned.csv', delimiter=',')"
   ]
  },
  {
   "cell_type": "code",
   "execution_count": 133,
   "id": "6f512026",
   "metadata": {},
   "outputs": [
    {
     "name": "stdout",
     "output_type": "stream",
     "text": [
      "Długość ramki przed czyszczenim  421\n"
     ]
    }
   ],
   "source": [
    "\n",
    "print(\"Długość ramki przed czyszczenim \", len(answer_frame))"
   ]
  },
  {
   "cell_type": "code",
   "execution_count": 149,
   "id": "94485e35",
   "metadata": {
    "scrolled": false
   },
   "outputs": [],
   "source": [
    "# dorop location equal to null\n",
    "\n",
    "answer_frame[\"location\"] = answer_frame[\"location\"].str.replace(\"Warszawa/Kraków/Busko/\",\"Warszawa\").copy()\n",
    "\n"
   ]
  },
  {
   "cell_type": "code",
   "execution_count": 129,
   "id": "6d210143",
   "metadata": {},
   "outputs": [
    {
     "name": "stderr",
     "output_type": "stream",
     "text": [
      "/var/folders/rr/kdykkbpd2rd0v8fypss8wtcr0000gn/T/ipykernel_97116/229594685.py:2: SettingWithCopyWarning: \n",
      "A value is trying to be set on a copy of a slice from a DataFrame\n",
      "\n",
      "See the caveats in the documentation: https://pandas.pydata.org/pandas-docs/stable/user_guide/indexing.html#returning-a-view-versus-a-copy\n",
      "  answer_frame.at[338,\"location\"] = 'Suwałki'\n"
     ]
    }
   ],
   "source": [
    "\n",
    "\n",
    "# answer_frame[answer_frame[\"location\"].str.contains(\"UE Suwałki\")]\n",
    "answer_frame.at[338,\"location\"] = 'Suwałki'\n",
    "\n"
   ]
  },
  {
   "cell_type": "code",
   "execution_count": 147,
   "id": "4b03e4e6",
   "metadata": {},
   "outputs": [],
   "source": [
    "answer_frame = answer_frame[~answer_frame[\"location\"].str.contains(\"Manchester, England\")].copy()\n",
    "\n",
    "\n"
   ]
  },
  {
   "cell_type": "code",
   "execution_count": 148,
   "id": "afaab0ca",
   "metadata": {},
   "outputs": [
    {
     "data": {
      "text/plain": [
       "['Warszawa',\n",
       " 'Kraków',\n",
       " 'Poznań',\n",
       " 'Wrocław',\n",
       " 'Gdańsk',\n",
       " 'Szczecin',\n",
       " 'Łódź',\n",
       " 'Warsaw',\n",
       " 'Białystok',\n",
       " 'Olsztyn',\n",
       " 'Gdynia',\n",
       " 'Lublin',\n",
       " 'Toruń',\n",
       " 'Mielec',\n",
       " 'Tychy',\n",
       " 'Katowice',\n",
       " 'Bytom',\n",
       " 'Świnoujście',\n",
       " 'Rzeszów',\n",
       " 'Częstochowa',\n",
       " 'Opole',\n",
       " 'Kielce',\n",
       " 'Bydgoszcz',\n",
       " 'Łódzkie',\n",
       " 'Gorzów Wielkopolski',\n",
       " 'Wałbrzych',\n",
       " 'Sosnowiec',\n",
       " 'Suwałki',\n",
       " 'Podlaskie',\n",
       " 'Czeladź',\n",
       " 'Krakow',\n",
       " 'Śląskie',\n",
       " 'Włocławek',\n",
       " 'Rybnik',\n",
       " 'Gliwice',\n",
       " 'Siedlce',\n",
       " 'Chorzów',\n",
       " 'Kraśnik',\n",
       " 'Głogów',\n",
       " 'Iława',\n",
       " 'Wielichowo',\n",
       " 'Nowy Dwór Mazowiecki',\n",
       " 'Żarki',\n",
       " 'Warszawa/Kraków/Busko/',\n",
       " 'Wąbrzeźno',\n",
       " 'Swarzędz',\n",
       " 'Lubartów',\n",
       " 'Starachowice',\n",
       " 'Gniezno',\n",
       " 'Dluga Szlachecka',\n",
       " 'Pomorskie',\n",
       " 'Leszno',\n",
       " 'Dolnośląskie',\n",
       " 'Strzelce Krajeńskie',\n",
       " 'Ciechocinek',\n",
       " 'Opolskie',\n",
       " 'Racibórz',\n",
       " 'Komornica',\n",
       " 'Zachodniopomorskie',\n",
       " 'Ożarów Mazowiecki gmina,',\n",
       " 'Jelenia Góra',\n",
       " 'Warszawa  Powiśle',\n",
       " 'Małopolskie',\n",
       " 'Kyiv, Ukraine',\n",
       " 'Pionki',\n",
       " 'Brzeg',\n",
       " 'Wrocław, Europa',\n",
       " 'Słupsk',\n",
       " 'Ełk',\n",
       " 'Wieruszów',\n",
       " 'Legionowo',\n",
       " 'Jabłonowo Pomorskie',\n",
       " 'Zielona Góra',\n",
       " 'BielskoBiała',\n",
       " 'Wieluń',\n",
       " 'Płońsk',\n",
       " 'Wadowice',\n",
       " 'Puławy',\n",
       " 'Oświęcim',\n",
       " 'Radom',\n",
       " 'Sulejówek',\n",
       " 'Sokołów Podlaski',\n",
       " 'Chojnice',\n",
       " 'Radomsko',\n",
       " 'Karpacz',\n",
       " 'Bezrzecze',\n",
       " 'Działdowo',\n",
       " 'Konin',\n",
       " 'Koszalin',\n",
       " 'Warszawa, Powiśle',\n",
       " 'Wodzisław Śląski',\n",
       " 'Legnica',\n",
       " 'Elbląg',\n",
       " 'Grudziądz',\n",
       " 'Zakopane',\n",
       " 'Pabianice',\n",
       " 'Kamienica',\n",
       " 'Ostrów Wielkopolski',\n",
       " 'Słubice',\n",
       " 'Przemyśl',\n",
       " 'Legnicy']"
      ]
     },
     "execution_count": 148,
     "metadata": {},
     "output_type": "execute_result"
    }
   ],
   "source": [
    "answer_frame[\"location\"].value_counts().keys().to_list()\n",
    "\n",
    "\n",
    "\n"
   ]
  },
  {
   "cell_type": "code",
   "execution_count": 131,
   "id": "ec1d94ec",
   "metadata": {},
   "outputs": [],
   "source": [
    "answer_frame.to_csv('../data/02_intermediate/users_cleaned.csv', index=False, columns = answer_frame.columns.to_list())"
   ]
  },
  {
   "cell_type": "code",
   "execution_count": null,
   "id": "02018513",
   "metadata": {},
   "outputs": [],
   "source": []
  }
 ],
 "metadata": {
  "kernelspec": {
   "display_name": "InfoSpread",
   "language": "python",
   "name": "infospread"
  },
  "language_info": {
   "codemirror_mode": {
    "name": "ipython",
    "version": 3
   },
   "file_extension": ".py",
   "mimetype": "text/x-python",
   "name": "python",
   "nbconvert_exporter": "python",
   "pygments_lexer": "ipython3",
   "version": "3.10.6"
  }
 },
 "nbformat": 4,
 "nbformat_minor": 5
}
